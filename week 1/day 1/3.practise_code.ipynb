{
 "cells": [
  {
   "cell_type": "markdown",
   "id": "74f4abca",
   "metadata": {},
   "source": [
    "practise questions 1:-\n",
    "\n",
    "👉 Task 1: Create a file day1_basics.py and print:\n",
    "Your name\n",
    "Your age\n",
    "Your favorite programming language"
   ]
  },
  {
   "cell_type": "code",
   "execution_count": 3,
   "id": "854c1fbe",
   "metadata": {},
   "outputs": [
    {
     "name": "stdout",
     "output_type": "stream",
     "text": [
      "Hi I'm  Nagendra  i am  26  years old.\n",
      "i want to learn  python\n"
     ]
    }
   ],
   "source": [
    "name = \"Nagendra\"\n",
    "age = 26\n",
    "language_to_be_learnt = \"python\"\n",
    "\n",
    "print(\"Hi I'm \", name, \" i am \", age, \" years old.\" \"\\ni want to learn \", language_to_be_learnt)"
   ]
  },
  {
   "cell_type": "markdown",
   "id": "b41be565",
   "metadata": {},
   "source": [
    "👉 Task 2: Declare variables for:\n",
    "\n",
    "Your city (string)\n",
    "Current year (int)\n",
    "Pi value (float)\n",
    "Whether you love coding (bool)\n",
    "Print them with their types."
   ]
  },
  {
   "cell_type": "code",
   "execution_count": 6,
   "id": "3177504c",
   "metadata": {},
   "outputs": [
    {
     "name": "stdout",
     "output_type": "stream",
     "text": [
      "Bengaluru is my city and the type of city variable is  <class 'str'>\n",
      "current year:  2025  the type of current_year variable is  <class 'int'>\n"
     ]
    }
   ],
   "source": [
    "city = \"Bengaluru\"\n",
    "current_year = 2025\n",
    "pi = 3.14\n",
    "is_intrested_in_coding = True\n",
    "\n",
    "print(city,\"is my city and the type of city variable is \",type(city))\n",
    "print(\"current year: \",current_year, \" the type of current_year variable is \",type(current_year))"
   ]
  },
  {
   "cell_type": "markdown",
   "id": "e370d9d5",
   "metadata": {},
   "source": [
    "👉 Task 3: Write a small script:\n",
    "\n",
    "Ask for user’s name and age\n",
    "Print: \"Hello <name>, you are <age> years old.\""
   ]
  },
  {
   "cell_type": "code",
   "execution_count": 10,
   "id": "eeacc980",
   "metadata": {},
   "outputs": [
    {
     "name": "stdout",
     "output_type": "stream",
     "text": [
      "Hello Nagendra kumar , you are 26 years old.\n"
     ]
    }
   ],
   "source": [
    "name = input(\"Enter your name: \")\n",
    "age = int(input(\"Enter your age: \"))\n",
    "\n",
    "print(\"Hello\",name,\", you are\", age, \"years old.\")"
   ]
  }
 ],
 "metadata": {
  "kernelspec": {
   "display_name": "python_fundamentals",
   "language": "python",
   "name": "python3"
  },
  "language_info": {
   "codemirror_mode": {
    "name": "ipython",
    "version": 3
   },
   "file_extension": ".py",
   "mimetype": "text/x-python",
   "name": "python",
   "nbconvert_exporter": "python",
   "pygments_lexer": "ipython3",
   "version": "3.10.18"
  }
 },
 "nbformat": 4,
 "nbformat_minor": 5
}
