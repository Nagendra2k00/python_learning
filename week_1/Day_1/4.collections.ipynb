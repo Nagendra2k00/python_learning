{
 "cells": [
  {
   "cell_type": "markdown",
   "id": "5d15f0d7",
   "metadata": {},
   "source": [
    "List (ordered, mutable, allows duplicates)\n",
    "\n",
    "Think of it as a dynamic array.\n",
    "\n",
    "Key properties:\n",
    "Ordered → items maintain insertion order.\n",
    "Mutable → you can change, add, remove.\n",
    "Allows duplicates."
   ]
  },
  {
   "cell_type": "code",
   "execution_count": null,
   "id": "f3e28059",
   "metadata": {
    "vscode": {
     "languageId": "plaintext"
    }
   },
   "outputs": [],
   "source": [
    "nums = [1, 2, 3, 4]\n",
    "mixed = [1, \"apple\", 3.5, [10, 20]]"
   ]
  }
 ],
 "metadata": {
  "language_info": {
   "name": "python"
  }
 },
 "nbformat": 4,
 "nbformat_minor": 5
}
